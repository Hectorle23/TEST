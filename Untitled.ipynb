{
 "cells": [
  {
   "cell_type": "markdown",
   "id": "d82044c2-35ee-482d-ba2d-4d0ab41a2bbd",
   "metadata": {},
   "source": [
    "### Importamos pandas "
   ]
  },
  {
   "cell_type": "markdown",
   "id": "eae96d15-41f8-445e-ac2b-2806952bb459",
   "metadata": {},
   "source": [
    "<h3> Importamos pandas </h3>"
   ]
  },
  {
   "cell_type": "code",
   "execution_count": 8,
   "id": "183dbc0a-d945-4be3-bb51-f43ffcba6f2c",
   "metadata": {},
   "outputs": [],
   "source": [
    "import pandas as pd"
   ]
  },
  {
   "cell_type": "code",
   "execution_count": null,
   "id": "5a522636-2ee5-4634-8e60-4521439d0acc",
   "metadata": {},
   "outputs": [],
   "source": []
  },
  {
   "cell_type": "code",
   "execution_count": null,
   "id": "8791beb4-fcb8-40fa-9164-cc80a73d26b8",
   "metadata": {},
   "outputs": [],
   "source": []
  }
 ],
 "metadata": {
  "kernelspec": {
   "display_name": "Python 3 (ipykernel)",
   "language": "python",
   "name": "python3"
  },
  "language_info": {
   "codemirror_mode": {
    "name": "ipython",
    "version": 3
   },
   "file_extension": ".py",
   "mimetype": "text/x-python",
   "name": "python",
   "nbconvert_exporter": "python",
   "pygments_lexer": "ipython3",
   "version": "3.12.4"
  }
 },
 "nbformat": 4,
 "nbformat_minor": 5
}
